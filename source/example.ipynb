{
 "cells": [
  {
   "cell_type": "code",
   "execution_count": 1,
   "id": "2de22ab3-5d97-47f2-b7ef-062f9a5ce291",
   "metadata": {},
   "outputs": [],
   "source": [
    "import os\n",
    "import kindle_parser as parser\n",
    "import utils"
   ]
  },
  {
   "cell_type": "code",
   "execution_count": 2,
   "id": "61e5a241-5514-4920-965f-80840d461932",
   "metadata": {},
   "outputs": [
    {
     "data": {
      "text/plain": [
       "[{'book_title': 'Levels of Life (Barnes, Julian)',\n",
       "  'clipping_type': 'highlight',\n",
       "  'text': \"I think it struck everybody that here we'd come 240,000 miles to see the Moon\",\n",
       "  'pos_start': 284,\n",
       "  'pos_end': 285,\n",
       "  'date': datetime.datetime(2021, 10, 8, 20, 5, 53)},\n",
       " {'book_title': 'Levels of Life (Barnes, Julian)',\n",
       "  'clipping_type': 'highlight',\n",
       "  'text': 'You put together two people who have not been put together before; and sometimes the world is changed, sometimes not. They may crash and burn, or burn and crash. But sometimes, something new is made, and then the world is changed. Together, in that first exaltation, that first roaring sense of uplift, they are greater than their two separate selves. Together, they see further, and they see more clearly.',\n",
       "  'pos_start': 297,\n",
       "  'pos_end': 300,\n",
       "  'date': datetime.datetime(2021, 10, 8, 20, 7, 53)}]"
      ]
     },
     "execution_count": 2,
     "metadata": {},
     "output_type": "execute_result"
    }
   ],
   "source": [
    "path_to_clippings_file = \"../example/My Clippings.txt\"\n",
    "clippings = parser.parse_clippings(\n",
    "    path_to_clippings_file=path_to_clippings_file)\n",
    "\n",
    "clippings[:2]"
   ]
  },
  {
   "cell_type": "code",
   "execution_count": 3,
   "id": "ea187ad0-e13b-40c2-93f1-c00019ff3d27",
   "metadata": {},
   "outputs": [
    {
     "data": {
      "text/plain": [
       "['Levels of Life (Barnes, Julian)']"
      ]
     },
     "execution_count": 3,
     "metadata": {},
     "output_type": "execute_result"
    }
   ],
   "source": [
    "book_titles = utils.get_unique_books(parsed_clippings=clippings)\n",
    "book_titles"
   ]
  },
  {
   "cell_type": "code",
   "execution_count": 4,
   "id": "f19a833c-a5ef-4f9e-9764-63e66e424b0a",
   "metadata": {},
   "outputs": [
    {
     "name": "stdout",
     "output_type": "stream",
     "text": [
      "Reading progress: 99.43%\n"
     ]
    },
    {
     "data": {
      "text/plain": [
       "0.9943342776203966"
      ]
     },
     "execution_count": 4,
     "metadata": {},
     "output_type": "execute_result"
    }
   ],
   "source": [
    "utils.get_book_progress(\n",
    "    parsed_clippings=clippings,\n",
    "    book_title=book_titles[0]\n",
    ")"
   ]
  },
  {
   "cell_type": "code",
   "execution_count": 5,
   "id": "016ded76-d4b7-4cf8-8dae-aad1d981124f",
   "metadata": {},
   "outputs": [],
   "source": [
    "# Create markdown files using the clippings of the first book in book_titles\n",
    "\n",
    "utils.create_markdown_from_clippings(\n",
    "    parsed_clippings=clippings,\n",
    "    book_title=book_titles[0],\n",
    "    clipping_type=\"all\",\n",
    "    output_filename=\"all_clippings.md\"\n",
    ")\n",
    "\n",
    "utils.create_markdown_from_clippings(\n",
    "    parsed_clippings=clippings,\n",
    "    book_title=book_titles[0],\n",
    "    clipping_type=\"highlight\",\n",
    "    output_filename=\"highlights_only.md\"\n",
    ")\n",
    "\n",
    "utils.create_markdown_from_clippings(\n",
    "    parsed_clippings=clippings,\n",
    "    book_title=book_titles[0],\n",
    "    clipping_type=\"note\",\n",
    "    output_filename=\"notes_only.md\"\n",
    ")"
   ]
  },
  {
   "cell_type": "code",
   "execution_count": 7,
   "id": "c4a850b5-325a-4ab4-8d71-60f6278c903e",
   "metadata": {},
   "outputs": [],
   "source": [
    "# Look at the generated markdown file\n",
    "output_filenames = [\"all_clippings.md\", \"highlights_only.md\", \"notes_only.md\"]"
   ]
  },
  {
   "cell_type": "code",
   "execution_count": 8,
   "id": "3a5fe400-5cef-4d7f-a83a-0325972b2dce",
   "metadata": {},
   "outputs": [
    {
     "name": "stdout",
     "output_type": "stream",
     "text": [
      "# Levels of Life (Barnes, Julian)\n",
      "\n",
      "> I think it struck everybody that here we'd come 240,000 miles to see the Moon\n",
      "\n",
      "> You put together two people who have not been put together before; and sometimes the world is changed, sometimes not. They may crash and burn, or burn and crash. But sometimes, something new is made, and then the world is changed. Together, in that first exaltation, that first roaring sense of uplift, they are greater than their two separate selves. Together, they see further, and they see more clearly.\n",
      "\n",
      "> But imagine a pair of lovers, one able to write privately and at length on both sides of the page, and hide the tenderest words in an envelope; the other constrained by brevity and the knowledge that private feelings might be publicly inspected by photographers and postmen. Although - isn't that how love sometimes feels, and works?\n",
      "\n",
      "> Some soar with art, others with religion; most with love. But when we soar, we can also crash.\n",
      "\n",
      "> Every love story is a potential grief story. If not at first, then later. If not for one, then for the other. Sometimes, for both.\n",
      "\n",
      "> So why do we constantly aspire to love? Because love is the meeting point of truth and magic. Truth, as in photography; magic, as in ballooning.\n",
      "\n",
      "\n"
     ]
    }
   ],
   "source": [
    "# File with all clippings\n",
    "with open(os.path.join(\"output\", output_filenames[0]), \"r\") as md:\n",
    "        print(md.read())"
   ]
  },
  {
   "cell_type": "code",
   "execution_count": 9,
   "id": "55971277-ded4-419d-b23a-eebeb792335a",
   "metadata": {},
   "outputs": [
    {
     "name": "stdout",
     "output_type": "stream",
     "text": [
      "# Levels of Life (Barnes, Julian)\n",
      "\n",
      "> I think it struck everybody that here we'd come 240,000 miles to see the Moon\n",
      "\n",
      "> You put together two people who have not been put together before; and sometimes the world is changed, sometimes not. They may crash and burn, or burn and crash. But sometimes, something new is made, and then the world is changed. Together, in that first exaltation, that first roaring sense of uplift, they are greater than their two separate selves. Together, they see further, and they see more clearly.\n",
      "\n",
      "> But imagine a pair of lovers, one able to write privately and at length on both sides of the page, and hide the tenderest words in an envelope; the other constrained by brevity and the knowledge that private feelings might be publicly inspected by photographers and postmen. Although - isn't that how love sometimes feels, and works?\n",
      "\n",
      "> Some soar with art, others with religion; most with love. But when we soar, we can also crash.\n",
      "\n",
      "> Every love story is a potential grief story. If not at first, then later. If not for one, then for the other. Sometimes, for both.\n",
      "\n",
      "> So why do we constantly aspire to love? Because love is the meeting point of truth and magic. Truth, as in photography; magic, as in ballooning.\n",
      "\n",
      "\n"
     ]
    }
   ],
   "source": [
    "# File with only highlight clippings\n",
    "with open(os.path.join(\"output\", output_filenames[1]), \"r\") as md:\n",
    "        print(md.read())"
   ]
  },
  {
   "cell_type": "code",
   "execution_count": 11,
   "id": "cface6ef-67ac-45be-86fd-04220c6ffb99",
   "metadata": {},
   "outputs": [
    {
     "name": "stdout",
     "output_type": "stream",
     "text": [
      "# Levels of Life (Barnes, Julian)\n",
      "\n",
      "\n"
     ]
    }
   ],
   "source": [
    "# File with only notes clippings (here: empty)\n",
    "with open(os.path.join(\"output\", output_filenames[2]), \"r\") as md:\n",
    "        print(md.read())"
   ]
  }
 ],
 "metadata": {
  "kernelspec": {
   "display_name": "Python 3",
   "language": "python",
   "name": "python3"
  },
  "language_info": {
   "codemirror_mode": {
    "name": "ipython",
    "version": 3
   },
   "file_extension": ".py",
   "mimetype": "text/x-python",
   "name": "python",
   "nbconvert_exporter": "python",
   "pygments_lexer": "ipython3",
   "version": "3.9.5"
  }
 },
 "nbformat": 4,
 "nbformat_minor": 5
}

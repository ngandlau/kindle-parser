{
 "cells": [
  {
   "cell_type": "code",
   "execution_count": 1,
   "id": "1d2c4d09-8104-45ba-b009-bbe59b665385",
   "metadata": {},
   "outputs": [],
   "source": [
    "import kindleparser as parser\n",
    "import utils"
   ]
  },
  {
   "cell_type": "code",
   "execution_count": 2,
   "id": "10b41355-7e19-42f8-bf51-242f4f7d2b46",
   "metadata": {},
   "outputs": [
    {
     "data": {
      "text/plain": [
       "[{'book_title': 'Selbstbetrachtungen (German Edition)',\n",
       "  'clipping_type': 'highlight',\n",
       "  'text': 'Beschränke deine Tätigkeit auf weniges, sagt Demokritos, wenn du in deinem Innern ruhig sein willst.',\n",
       "  'pos_start': 511,\n",
       "  'pos_end': 512,\n",
       "  'date': datetime.datetime(2021, 7, 13, 7, 28, 10)},\n",
       " {'book_title': 'Selbstbetrachtungen (German Edition)',\n",
       "  'clipping_type': 'highlight',\n",
       "  'text': 'Frage dich also bei jeglicher Sache: Gehört diese etwa zu den unnötigen Dingen?',\n",
       "  'pos_start': 515,\n",
       "  'pos_end': 516,\n",
       "  'date': datetime.datetime(2021, 7, 13, 7, 28, 52)}]"
      ]
     },
     "execution_count": 2,
     "metadata": {},
     "output_type": "execute_result"
    }
   ],
   "source": [
    "clippings = parser.read_my_clippings(path_to_my_clippings=\"My Clippings.txt\")\n",
    "clippings[:2]"
   ]
  },
  {
   "cell_type": "code",
   "execution_count": 3,
   "id": "3cafc7fd-7088-44b0-859a-8494a318b46f",
   "metadata": {},
   "outputs": [
    {
     "data": {
      "text/plain": [
       "['The Art Of Seduction (The Modern Machiavellian Robert Greene) (Greene, Robert)',\n",
       " 'Levels of Life (Barnes, Julian)',\n",
       " 'Measure What Matters (John Doerr)',\n",
       " 'Selbstbetrachtungen (German Edition)',\n",
       " 'The Midnight Library (Matt Haig)']"
      ]
     },
     "execution_count": 3,
     "metadata": {},
     "output_type": "execute_result"
    }
   ],
   "source": [
    "books = utils.get_unique_books(clippings_data=clippings)\n",
    "books"
   ]
  },
  {
   "cell_type": "code",
   "execution_count": 4,
   "id": "6187b8b5-f24d-476e-acb8-bf4f01684060",
   "metadata": {},
   "outputs": [
    {
     "name": "stdout",
     "output_type": "stream",
     "text": [
      "The Art Of Seduction (The Modern Machiavellian Robert Greene) (Greene, Robert)\n",
      "Reading progress: 99.85%\n",
      "Levels of Life (Barnes, Julian)\n",
      "Reading progress: 99.57%\n",
      "Measure What Matters (John Doerr)\n",
      "Reading progress: 99.61%\n",
      "Selbstbetrachtungen (German Edition)\n",
      "Reading progress: 99.51%\n",
      "The Midnight Library (Matt Haig)\n",
      "Reading progress: 100.0%\n"
     ]
    }
   ],
   "source": [
    "for book in books:\n",
    "    print(book)\n",
    "    utils.get_book_progress(clippings_data=clippings, book_title=book)"
   ]
  },
  {
   "cell_type": "code",
   "execution_count": 5,
   "id": "f15b6fd4-c708-4133-b1f8-61f0fbcb9c73",
   "metadata": {},
   "outputs": [],
   "source": [
    "for book in books:\n",
    "    utils.create_markdown_from_clippings(clippings_data=clippings, book_title=book)"
   ]
  }
 ],
 "metadata": {
  "kernelspec": {
   "display_name": "Python 3",
   "language": "python",
   "name": "python3"
  },
  "language_info": {
   "codemirror_mode": {
    "name": "ipython",
    "version": 3
   },
   "file_extension": ".py",
   "mimetype": "text/x-python",
   "name": "python",
   "nbconvert_exporter": "python",
   "pygments_lexer": "ipython3",
   "version": "3.9.5"
  }
 },
 "nbformat": 4,
 "nbformat_minor": 5
}

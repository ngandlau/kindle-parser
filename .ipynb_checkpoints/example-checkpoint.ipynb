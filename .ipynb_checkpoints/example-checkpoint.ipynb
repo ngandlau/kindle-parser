{
 "cells": [
  {
   "cell_type": "code",
   "execution_count": 5,
   "id": "1d2c4d09-8104-45ba-b009-bbe59b665385",
   "metadata": {},
   "outputs": [],
   "source": [
    "import kindleparser as parser\n",
    "import utils "
   ]
  },
  {
   "cell_type": "code",
   "execution_count": 6,
   "id": "10b41355-7e19-42f8-bf51-242f4f7d2b46",
   "metadata": {},
   "outputs": [
    {
     "data": {
      "text/plain": [
       "[{'book_title': 'Selbstbetrachtungen (German Edition)',\n",
       "  'clipping_type': 'highlight',\n",
       "  'text': 'Beschränke deine Tätigkeit auf weniges, sagt Demokritos, wenn du in deinem Innern ruhig sein willst.',\n",
       "  'pos_start': 511,\n",
       "  'pos_end': 512,\n",
       "  'date': datetime.datetime(2021, 7, 13, 7, 28, 10)},\n",
       " {'book_title': 'Selbstbetrachtungen (German Edition)',\n",
       "  'clipping_type': 'highlight',\n",
       "  'text': 'Frage dich also bei jeglicher Sache: Gehört diese etwa zu den unnötigen Dingen?',\n",
       "  'pos_start': 515,\n",
       "  'pos_end': 516,\n",
       "  'date': datetime.datetime(2021, 7, 13, 7, 28, 52)}]"
      ]
     },
     "execution_count": 6,
     "metadata": {},
     "output_type": "execute_result"
    }
   ],
   "source": [
    "clippings = parser.read_my_clippings(path_to_my_clippings=\"My Clippings.txt\")\n",
    "clippings[:2]"
   ]
  },
  {
   "cell_type": "code",
   "execution_count": 7,
   "id": "3cafc7fd-7088-44b0-859a-8494a318b46f",
   "metadata": {},
   "outputs": [
    {
     "data": {
      "text/plain": [
       "['The Art Of Seduction (The Modern Machiavellian Robert Greene) (Greene, Robert)',\n",
       " 'Measure What Matters (John Doerr)',\n",
       " 'Levels of Life (Barnes, Julian)',\n",
       " 'The Midnight Library (Matt Haig)',\n",
       " 'Selbstbetrachtungen (German Edition)']"
      ]
     },
     "execution_count": 7,
     "metadata": {},
     "output_type": "execute_result"
    }
   ],
   "source": [
    "books = utils.get_unique_books(clippings_data=clippings)\n",
    "books"
   ]
  },
  {
   "cell_type": "code",
   "execution_count": 8,
   "id": "6187b8b5-f24d-476e-acb8-bf4f01684060",
   "metadata": {},
   "outputs": [
    {
     "name": "stdout",
     "output_type": "stream",
     "text": [
      "The Art Of Seduction (The Modern Machiavellian Robert Greene) (Greene, Robert)\n",
      "Reading progress: 99.85%\n",
      "Measure What Matters (John Doerr)\n",
      "Reading progress: 99.61%\n",
      "Levels of Life (Barnes, Julian)\n",
      "Reading progress: 99.57%\n",
      "The Midnight Library (Matt Haig)\n"
     ]
    },
    {
     "ename": "ValueError",
     "evalue": "max() arg is an empty sequence",
     "output_type": "error",
     "traceback": [
      "\u001b[1;31m---------------------------------------------------------------------------\u001b[0m",
      "\u001b[1;31mValueError\u001b[0m                                Traceback (most recent call last)",
      "\u001b[1;32m<ipython-input-8-1ec94eefd3bd>\u001b[0m in \u001b[0;36m<module>\u001b[1;34m\u001b[0m\n\u001b[0;32m      1\u001b[0m \u001b[1;32mfor\u001b[0m \u001b[0mbook\u001b[0m \u001b[1;32min\u001b[0m \u001b[0mbooks\u001b[0m\u001b[1;33m:\u001b[0m\u001b[1;33m\u001b[0m\u001b[1;33m\u001b[0m\u001b[0m\n\u001b[0;32m      2\u001b[0m     \u001b[0mprint\u001b[0m\u001b[1;33m(\u001b[0m\u001b[0mbook\u001b[0m\u001b[1;33m)\u001b[0m\u001b[1;33m\u001b[0m\u001b[1;33m\u001b[0m\u001b[0m\n\u001b[1;32m----> 3\u001b[1;33m     \u001b[0mutils\u001b[0m\u001b[1;33m.\u001b[0m\u001b[0mget_book_progress\u001b[0m\u001b[1;33m(\u001b[0m\u001b[0mclippings_data\u001b[0m\u001b[1;33m=\u001b[0m\u001b[0mclippings\u001b[0m\u001b[1;33m,\u001b[0m \u001b[0mbook_title\u001b[0m\u001b[1;33m=\u001b[0m\u001b[0mbook\u001b[0m\u001b[1;33m)\u001b[0m\u001b[1;33m\u001b[0m\u001b[1;33m\u001b[0m\u001b[0m\n\u001b[0m",
      "\u001b[1;32mC:\\code\\kindle-parser\\utils.py\u001b[0m in \u001b[0;36mget_book_progress\u001b[1;34m(clippings_data, book_title)\u001b[0m\n\u001b[0;32m     50\u001b[0m     )\n\u001b[0;32m     51\u001b[0m     \u001b[0mmax_pos\u001b[0m \u001b[1;33m=\u001b[0m \u001b[0mget_max_position\u001b[0m\u001b[1;33m(\u001b[0m\u001b[0mclippings_of_book\u001b[0m\u001b[1;33m)\u001b[0m\u001b[1;33m\u001b[0m\u001b[1;33m\u001b[0m\u001b[0m\n\u001b[1;32m---> 52\u001b[1;33m     \u001b[0msecond_max_pos\u001b[0m \u001b[1;33m=\u001b[0m \u001b[0mget_second_max_position\u001b[0m\u001b[1;33m(\u001b[0m\u001b[0mclippings_of_book\u001b[0m\u001b[1;33m)\u001b[0m\u001b[1;33m\u001b[0m\u001b[1;33m\u001b[0m\u001b[0m\n\u001b[0m\u001b[0;32m     53\u001b[0m     \u001b[0mperc_progress\u001b[0m \u001b[1;33m=\u001b[0m \u001b[0msecond_max_pos\u001b[0m \u001b[1;33m/\u001b[0m \u001b[0mmax_pos\u001b[0m\u001b[1;33m\u001b[0m\u001b[1;33m\u001b[0m\u001b[0m\n\u001b[0;32m     54\u001b[0m     \u001b[0mprint\u001b[0m\u001b[1;33m(\u001b[0m\u001b[1;34mf\"Reading progress: {round(perc_progress*100, 2)}%\"\u001b[0m\u001b[1;33m)\u001b[0m\u001b[1;33m\u001b[0m\u001b[1;33m\u001b[0m\u001b[0m\n",
      "\u001b[1;32mC:\\code\\kindle-parser\\utils.py\u001b[0m in \u001b[0;36mget_second_max_position\u001b[1;34m(clippings_from_book)\u001b[0m\n\u001b[0;32m     69\u001b[0m     \u001b[0msecond_max\u001b[0m \u001b[1;33m=\u001b[0m \u001b[0mmax\u001b[0m\u001b[1;33m(\u001b[0m\u001b[0mpositions\u001b[0m\u001b[1;33m)\u001b[0m\u001b[1;33m\u001b[0m\u001b[1;33m\u001b[0m\u001b[0m\n\u001b[0;32m     70\u001b[0m     \u001b[1;32mwhile\u001b[0m \u001b[0mfirst_max\u001b[0m \u001b[1;33m==\u001b[0m \u001b[0msecond_max\u001b[0m\u001b[1;33m:\u001b[0m\u001b[1;33m\u001b[0m\u001b[1;33m\u001b[0m\u001b[0m\n\u001b[1;32m---> 71\u001b[1;33m         \u001b[0mpositions\u001b[0m\u001b[1;33m.\u001b[0m\u001b[0mremove\u001b[0m\u001b[1;33m(\u001b[0m\u001b[0mmax\u001b[0m\u001b[1;33m(\u001b[0m\u001b[0mpositions\u001b[0m\u001b[1;33m)\u001b[0m\u001b[1;33m)\u001b[0m\u001b[1;33m\u001b[0m\u001b[1;33m\u001b[0m\u001b[0m\n\u001b[0m\u001b[0;32m     72\u001b[0m         \u001b[0msecond_max\u001b[0m \u001b[1;33m=\u001b[0m \u001b[0mmax\u001b[0m\u001b[1;33m(\u001b[0m\u001b[0mpositions\u001b[0m\u001b[1;33m)\u001b[0m\u001b[1;33m\u001b[0m\u001b[1;33m\u001b[0m\u001b[0m\n\u001b[0;32m     73\u001b[0m     \u001b[1;32mreturn\u001b[0m \u001b[0msecond_max\u001b[0m\u001b[1;33m\u001b[0m\u001b[1;33m\u001b[0m\u001b[0m\n",
      "\u001b[1;31mValueError\u001b[0m: max() arg is an empty sequence"
     ]
    }
   ],
   "source": [
    "for book in books:\n",
    "    print(book)\n",
    "    utils.get_book_progress(clippings_data=clippings, book_title=book)"
   ]
  },
  {
   "cell_type": "code",
   "execution_count": 34,
   "id": "aa26c923-d1ba-45b6-af08-383f80169b43",
   "metadata": {},
   "outputs": [],
   "source": [
    "def get_book_progress(clippings_data, book_title):\n",
    "    clippings_of_book = get_clippings_from_book(\n",
    "        book_title=book_title,\n",
    "        clippings_data=clippings_data,\n",
    "        clipping_type=None\n",
    "    )\n",
    "    max_pos = get_max_position(clippings_of_book)\n",
    "    second_max_pos = get_second_max_position(clippings_of_book)\n",
    "    perc_progress = second_max_pos / max_pos\n",
    "    print(f\"Reading progress: {round(perc_progress*100, 2)}%\")\n",
    "    return perc_progress\n",
    "\n",
    "def get_max_position(clippings_from_book):\n",
    "    positions = [clipping[\"pos_end\"] for clipping in clippings_from_book if clipping[\"pos_end\"] is not None]\n",
    "    max_pos = max(positions)\n",
    "    return max_pos\n",
    "\n",
    "def get_second_max_position(clippings_from_book):\n",
    "    positions = [clipping[\"pos_end\"] for clipping in clippings_from_book if clipping[\"pos_end\"] is not None]\n",
    "    \n",
    "    if len(positions) == 1:\n",
    "        return max(positions)\n",
    "    \n",
    "    first_max = max(positions)\n",
    "    second_max = max(positions)\n",
    "    while first_max == second_max:\n",
    "        positions.remove(first_max)\n",
    "        second_max = max(positions)\n",
    "    return second_max\n",
    "        \n",
    "def get_clippings_from_book(book_title, clippings_data, clipping_type=None):\n",
    "    \"\"\"\n",
    "    args:\n",
    "        book_title: a string of the title of a book\n",
    "        clippings_data: a list of dictionaries, ie the output of get_clippings()\n",
    "        clipping_type: Optional: None or \"highlight\" or \"note\"\n",
    "    \"\"\"\n",
    "    clippings = []\n",
    "    for clipping in clippings_data:\n",
    "        if clipping_type is None:\n",
    "            if clipping[\"book_title\"] == book_title:\n",
    "                clippings.append(clipping)\n",
    "        else:\n",
    "            if clipping[\"book_title\"] == book_title and clipping[\"clipping_type\"] == clipping_type:\n",
    "                clippings.append(clipping)\n",
    "    return clippings"
   ]
  },
  {
   "cell_type": "code",
   "execution_count": 30,
   "id": "8efb4a10-df2a-45cb-83e3-7898cdfb18f0",
   "metadata": {},
   "outputs": [
    {
     "name": "stdout",
     "output_type": "stream",
     "text": [
      "The Art Of Seduction (The Modern Machiavellian Robert Greene) (Greene, Robert)\n",
      "get_max_position(): 2660\n",
      "[847, 848, 848, 848, 1477, 1477, 1507, 1510, 1512, 1513, 1535, 1746, 1751, 1751, 1755, 1926, 1933, 1936, 1938, 1940, 1939, 2040, 2077, 2078, 2096, 2112, 2168, 2180, 2183, 2210, 2224, 2247, 2274, 2285, 2327, 2435, 2456, 2477, 2480, 2500, 2503, 2503, 2539, 2560, 2592, 2594, 2595, 2634, 2656, 2656, 2660]\n",
      "2660\n",
      "2656\n",
      "Reading progress: 99.85%\n",
      "Measure What Matters (John Doerr)\n",
      "get_max_position(): 1027\n",
      "[125, 144, 153, 161, 163, 189, 191, 199, 341, 349, 350, 363, 379, 387, 418, 541, 548, 650, 687, 761, 785, 793, 807, 831, 841, 867, 903, 903, 903, 939, 1023, 1027, 1027]\n",
      "1027\n",
      "1023\n",
      "Reading progress: 99.61%\n",
      "Levels of Life (Barnes, Julian)\n",
      "get_max_position(): 1171\n",
      "[106, 118, 120, 167, 175, 182, 216, 277, 285, 285, 286, 300, 313, 349, 351, 353, 413, 458, 474, 475, 492, 518, 559, 610, 648, 654, 659, 672, 717, 718, 757, 763, 776, 776, 776, 776, 787, 788, 799, 867, 883, 951, 982, 1002, 1008, 1084, 1103, 1166, 1171]\n",
      "1171\n",
      "1166\n",
      "Reading progress: 99.57%\n",
      "The Midnight Library (Matt Haig)\n",
      "get_max_position(): 527\n",
      "[527, 527, 527]\n"
     ]
    },
    {
     "ename": "ValueError",
     "evalue": "max() arg is an empty sequence",
     "output_type": "error",
     "traceback": [
      "\u001b[1;31m---------------------------------------------------------------------------\u001b[0m",
      "\u001b[1;31mValueError\u001b[0m                                Traceback (most recent call last)",
      "\u001b[1;32m<ipython-input-30-c974cc72693e>\u001b[0m in \u001b[0;36m<module>\u001b[1;34m\u001b[0m\n\u001b[0;32m      1\u001b[0m \u001b[1;32mfor\u001b[0m \u001b[0mbook\u001b[0m \u001b[1;32min\u001b[0m \u001b[0mbooks\u001b[0m\u001b[1;33m:\u001b[0m\u001b[1;33m\u001b[0m\u001b[1;33m\u001b[0m\u001b[0m\n\u001b[0;32m      2\u001b[0m     \u001b[0mprint\u001b[0m\u001b[1;33m(\u001b[0m\u001b[0mbook\u001b[0m\u001b[1;33m)\u001b[0m\u001b[1;33m\u001b[0m\u001b[1;33m\u001b[0m\u001b[0m\n\u001b[1;32m----> 3\u001b[1;33m     \u001b[0mget_book_progress\u001b[0m\u001b[1;33m(\u001b[0m\u001b[0mclippings_data\u001b[0m\u001b[1;33m=\u001b[0m\u001b[0mclippings\u001b[0m\u001b[1;33m,\u001b[0m \u001b[0mbook_title\u001b[0m\u001b[1;33m=\u001b[0m\u001b[0mbook\u001b[0m\u001b[1;33m)\u001b[0m\u001b[1;33m\u001b[0m\u001b[1;33m\u001b[0m\u001b[0m\n\u001b[0m",
      "\u001b[1;32m<ipython-input-29-d65cd4cea20d>\u001b[0m in \u001b[0;36mget_book_progress\u001b[1;34m(clippings_data, book_title)\u001b[0m\n\u001b[0;32m      6\u001b[0m     )\n\u001b[0;32m      7\u001b[0m     \u001b[0mmax_pos\u001b[0m \u001b[1;33m=\u001b[0m \u001b[0mget_max_position\u001b[0m\u001b[1;33m(\u001b[0m\u001b[0mclippings_of_book\u001b[0m\u001b[1;33m)\u001b[0m\u001b[1;33m\u001b[0m\u001b[1;33m\u001b[0m\u001b[0m\n\u001b[1;32m----> 8\u001b[1;33m     \u001b[0msecond_max_pos\u001b[0m \u001b[1;33m=\u001b[0m \u001b[0mget_second_max_position\u001b[0m\u001b[1;33m(\u001b[0m\u001b[0mclippings_of_book\u001b[0m\u001b[1;33m)\u001b[0m\u001b[1;33m\u001b[0m\u001b[1;33m\u001b[0m\u001b[0m\n\u001b[0m\u001b[0;32m      9\u001b[0m \u001b[1;33m\u001b[0m\u001b[0m\n\u001b[0;32m     10\u001b[0m     \u001b[0mprint\u001b[0m\u001b[1;33m(\u001b[0m\u001b[0mmax_pos\u001b[0m\u001b[1;33m)\u001b[0m\u001b[1;33m\u001b[0m\u001b[1;33m\u001b[0m\u001b[0m\n",
      "\u001b[1;32m<ipython-input-29-d65cd4cea20d>\u001b[0m in \u001b[0;36mget_second_max_position\u001b[1;34m(clippings_from_book)\u001b[0m\n\u001b[0;32m     31\u001b[0m     \u001b[1;32mwhile\u001b[0m \u001b[0mfirst_max\u001b[0m \u001b[1;33m==\u001b[0m \u001b[0msecond_max\u001b[0m\u001b[1;33m:\u001b[0m\u001b[1;33m\u001b[0m\u001b[1;33m\u001b[0m\u001b[0m\n\u001b[0;32m     32\u001b[0m         \u001b[0mpositions\u001b[0m\u001b[1;33m.\u001b[0m\u001b[0mremove\u001b[0m\u001b[1;33m(\u001b[0m\u001b[0mfirst_max\u001b[0m\u001b[1;33m)\u001b[0m\u001b[1;33m\u001b[0m\u001b[1;33m\u001b[0m\u001b[0m\n\u001b[1;32m---> 33\u001b[1;33m         \u001b[0msecond_max\u001b[0m \u001b[1;33m=\u001b[0m \u001b[0mmax\u001b[0m\u001b[1;33m(\u001b[0m\u001b[0mpositions\u001b[0m\u001b[1;33m)\u001b[0m\u001b[1;33m\u001b[0m\u001b[1;33m\u001b[0m\u001b[0m\n\u001b[0m\u001b[0;32m     34\u001b[0m     \u001b[1;32mreturn\u001b[0m \u001b[0msecond_max\u001b[0m\u001b[1;33m\u001b[0m\u001b[1;33m\u001b[0m\u001b[0m\n\u001b[0;32m     35\u001b[0m \u001b[1;33m\u001b[0m\u001b[0m\n",
      "\u001b[1;31mValueError\u001b[0m: max() arg is an empty sequence"
     ]
    }
   ],
   "source": [
    "for book in books:\n",
    "    print(book)\n",
    "    get_book_progress(clippings_data=clippings, book_title=book)"
   ]
  }
 ],
 "metadata": {
  "kernelspec": {
   "display_name": "Python 3",
   "language": "python",
   "name": "python3"
  },
  "language_info": {
   "codemirror_mode": {
    "name": "ipython",
    "version": 3
   },
   "file_extension": ".py",
   "mimetype": "text/x-python",
   "name": "python",
   "nbconvert_exporter": "python",
   "pygments_lexer": "ipython3",
   "version": "3.9.5"
  }
 },
 "nbformat": 4,
 "nbformat_minor": 5
}
